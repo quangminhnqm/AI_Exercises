{
  "nbformat": 4,
  "nbformat_minor": 0,
  "metadata": {
    "colab": {
      "name": "cifar100.ipynb",
      "provenance": []
    },
    "kernelspec": {
      "name": "python3",
      "display_name": "Python 3"
    },
    "language_info": {
      "name": "python"
    },
    "accelerator": "GPU"
  },
  "cells": [
    {
      "cell_type": "code",
      "execution_count": null,
      "metadata": {
        "colab": {
          "base_uri": "https://localhost:8080/"
        },
        "id": "pFolqxDBN7Nl",
        "outputId": "56327b65-18df-4477-cff3-470448425030"
      },
      "outputs": [
        {
          "output_type": "stream",
          "name": "stdout",
          "text": [
            "Downloading data from https://www.cs.toronto.edu/~kriz/cifar-100-python.tar.gz\n",
            "169009152/169001437 [==============================] - 13s 0us/step\n",
            "169017344/169001437 [==============================] - 13s 0us/step\n"
          ]
        }
      ],
      "source": [
        "from keras.datasets import cifar100\n",
        "(X_train,y_train),(X_test,y_test)= cifar100.load_data()"
      ]
    },
    {
      "cell_type": "code",
      "source": [
        "import matplotlib.pyplot as plt\n",
        "n= 10\n",
        "for i in range(15):\n",
        "  plt.subplot(n,5,i+1)\n",
        "  plt.imshow(X_train[i])\n",
        "plt.show()"
      ],
      "metadata": {
        "colab": {
          "base_uri": "https://localhost:8080/",
          "height": 114
        },
        "id": "W5fWbq-5d7XW",
        "outputId": "6274a0ac-3f2c-4114-c33b-bba022023f4a"
      },
      "execution_count": null,
      "outputs": [
        {
          "output_type": "display_data",
          "data": {
            "text/plain": [
              "<Figure size 432x288 with 15 Axes>"
            ],
            "image/png": "[encoded data removed]"
          },
          "metadata": {
            "needs_background": "light"
          }
        }
      ]
    },
    {
      "cell_type": "code",
      "source": [
        "import tensorflow as tf \n",
        "x_leftright = []\n",
        "y_leftright  = []\n",
        "for i in range(X_train.shape[0]):\n",
        "  x = tf.image.flip_left_right(X_train[i])\n",
        "  y = y_train[i]\n",
        "  x_leftright.append(x)\n",
        "  y_leftright.append(y)"
      ],
      "metadata": {
        "id": "Doxz9yhud9QA"
      },
      "execution_count": null,
      "outputs": []
    },
    {
      "cell_type": "code",
      "source": [
        "import numpy as np\n",
        "x_leftright = np.array(x_leftright)\n",
        "y_leftright = np.array(y_leftright)"
      ],
      "metadata": {
        "id": "1Q0b1jzyeA2Y"
      },
      "execution_count": null,
      "outputs": []
    },
    {
      "cell_type": "code",
      "source": [
        "import tensorflow as tf \n",
        "x_updown = []\n",
        "y_updown  = []\n",
        "for i in range(X_train.shape[0]):\n",
        "  x = tf.image.flip_up_down(X_train[i])\n",
        "  y = y_train[i]\n",
        "  x_updown.append(x)\n",
        "  y_updown.append(y)"
      ],
      "metadata": {
        "id": "7Ci66DD3eCrS"
      },
      "execution_count": null,
      "outputs": []
    },
    {
      "cell_type": "code",
      "source": [
        "x_updown = np.array(x_updown)\n",
        "y_updown = np.array(y_updown)"
      ],
      "metadata": {
        "id": "ookdLumreERr"
      },
      "execution_count": null,
      "outputs": []
    },
    {
      "cell_type": "code",
      "source": [
        "x_train = np.concatenate((X_train,x_leftright,x_updown))\n",
        "Y_train = np.concatenate((y_train,y_leftright,y_updown))"
      ],
      "metadata": {
        "id": "eqtbTvjpeF4U"
      },
      "execution_count": null,
      "outputs": []
    },
    {
      "cell_type": "code",
      "source": [
        "from keras.layers import Activation\n",
        "from keras.models import Sequential\n",
        "from keras.layers import Dense, Dropout, Flatten\n",
        "from keras.layers import Conv2D, MaxPooling2D,BatchNormalization\n",
        "from tensorflow.keras.utils import to_categorical\n",
        "from keras import backend as K\n",
        "from keras.layers import Activation\n",
        "from keras.models import Sequential\n",
        "from keras.layers import Dense, Dropout, Flatten\n",
        "from keras.layers import Conv2D, MaxPooling2D\n",
        "from keras import backend as K"
      ],
      "metadata": {
        "id": "lH3FROvPeIBK"
      },
      "execution_count": null,
      "outputs": []
    },
    {
      "cell_type": "code",
      "source": [
        "x_train = x_train.reshape(x_train.shape[0], 32, 32, 3)\n",
        "X_test = X_test.reshape(X_test.shape[0], 32, 32, 3)\n",
        "Y_train = to_categorical(Y_train, 100)\n",
        "y_test = to_categorical(y_test, 100)\n",
        "x_train = x_train.astype('float32')\n",
        "X_test = X_test.astype('float32')\n",
        "x_train /= 255\n",
        "X_test /= 255\n",
        "print('x_train shape:', x_train.shape)\n",
        "print(x_train.shape[0], 'train samples')\n",
        "print(X_test.shape[0], 'test samples')"
      ],
      "metadata": {
        "colab": {
          "base_uri": "https://localhost:8080/"
        },
        "id": "0pmF79HpeKSQ",
        "outputId": "32aa5144-450c-46d1-c383-da5d4d712c82"
      },
      "execution_count": null,
      "outputs": [
        {
          "output_type": "stream",
          "name": "stdout",
          "text": [
            "x_train shape: (150000, 32, 32, 3)\n",
            "150000 train samples\n",
            "10000 test samples\n"
          ]
        }
      ]
    },
    {
      "cell_type": "code",
      "source": [
        "model= Sequential()\n",
        "model.add(Conv2D(32,(3,3),activation='relu',kernel_initializer='he_uniform',padding='same',input_shape=(32,32,3)))\n",
        "model.add(Conv2D(32,(3,3),activation='relu',kernel_initializer='he_uniform',padding='same'))\n",
        "model.add(MaxPooling2D((2,2)))\n",
        "\n",
        "model.add(Conv2D(64,(3,3),activation='relu',kernel_initializer='he_uniform',padding='same'))\n",
        "model.add(Conv2D(64,(3,3),activation='relu',kernel_initializer='he_uniform',padding='same'))\n",
        "model.add(MaxPooling2D((2,2)))\n",
        "\n",
        "model.add(Conv2D(128,(3,3),activation='relu',kernel_initializer='he_uniform',padding='same'))\n",
        "model.add(MaxPooling2D((2,2)))\n",
        "\n",
        "model.add(Flatten())\n",
        "model.add(Dense(128,activation='relu',kernel_initializer='he_uniform'))\n",
        "model.add(Dense(100,activation='softmax'))\n",
        "model.summary()"
      ],
      "metadata": {
        "colab": {
          "base_uri": "https://localhost:8080/"
        },
        "id": "leGwMMhXeNFp",
        "outputId": "fba517ea-1cc9-4296-90f0-1d8cfd6cfd72"
      },
      "execution_count": null,
      "outputs": [
        {
          "output_type": "stream",
          "name": "stdout",
          "text": [
            "Model: \"sequential\"\n",
            "_________________________________________________________________\n",
            " Layer (type)                Output Shape              Param #   \n",
            "=================================================================\n",
            " conv2d (Conv2D)             (None, 32, 32, 32)        896       \n",
            "                                                                 \n",
            " conv2d_1 (Conv2D)           (None, 32, 32, 32)        9248      \n",
            "                                                                 \n",
            " max_pooling2d (MaxPooling2D  (None, 16, 16, 32)       0         \n",
            " )                                                               \n",
            "                                                                 \n",
            " conv2d_2 (Conv2D)           (None, 16, 16, 64)        18496     \n",
            "                                                                 \n",
            " conv2d_3 (Conv2D)           (None, 16, 16, 64)        36928     \n",
            "                                                                 \n",
            " max_pooling2d_1 (MaxPooling  (None, 8, 8, 64)         0         \n",
            " 2D)                                                             \n",
            "                                                                 \n",
            " conv2d_4 (Conv2D)           (None, 8, 8, 128)         73856     \n",
            "                                                                 \n",
            " max_pooling2d_2 (MaxPooling  (None, 4, 4, 128)        0         \n",
            " 2D)                                                             \n",
            "                                                                 \n",
            " flatten (Flatten)           (None, 2048)              0         \n",
            "                                                                 \n",
            " dense (Dense)               (None, 128)               262272    \n",
            "                                                                 \n",
            " dense_1 (Dense)             (None, 100)               12900     \n",
            "                                                                 \n",
            "=================================================================\n",
            "Total params: 414,596\n",
            "Trainable params: 414,596\n",
            "Non-trainable params: 0\n",
            "_________________________________________________________________\n"
          ]
        }
      ]
    },
    {
      "cell_type": "code",
      "source": [
        "from keras.backend import categorical_crossentropy\n",
        "from tensorflow.keras.optimizers import Adam,SGD\n",
        "\n",
        "#opt= SGD(lr=0.01,momentum=0.9)\n",
        "\n",
        "opt =Adam()\n",
        "model.compile(opt,loss='categorical_crossentropy',metrics=['accuracy'])\n",
        "hist = model.fit(x_train, Y_train,batch_size=64,epochs=50,verbose=1,validation_data=(X_test, y_test))\n",
        "\n",
        "model.save('cifar100.h5')"
      ],
      "metadata": {
        "colab": {
          "base_uri": "https://localhost:8080/"
        },
        "id": "oQ4K-zXKeP-y",
        "outputId": "cf0e3896-35ca-4e25-a0bd-08e23b8dddc4"
      },
      "execution_count": null,
      "outputs": [
        {
          "output_type": "stream",
          "name": "stdout",
          "text": [
            "Epoch 1/50\n",
            "2344/2344 [==============================] - 20s 8ms/step - loss: 0.9080 - accuracy: 0.7192 - val_loss: 3.1155 - val_accuracy: 0.4299\n",
            "Epoch 2/50\n",
            "2344/2344 [==============================] - 18s 8ms/step - loss: 0.9078 - accuracy: 0.7190 - val_loss: 3.1100 - val_accuracy: 0.4291\n",
            "Epoch 3/50\n",
            "2344/2344 [==============================] - 19s 8ms/step - loss: 0.9137 - accuracy: 0.7185 - val_loss: 2.9400 - val_accuracy: 0.4442\n",
            "Epoch 4/50\n",
            "2344/2344 [==============================] - 18s 8ms/step - loss: 0.9104 - accuracy: 0.7185 - val_loss: 3.0075 - val_accuracy: 0.4305\n",
            "Epoch 5/50\n",
            "2344/2344 [==============================] - 18s 8ms/step - loss: 0.9017 - accuracy: 0.7217 - val_loss: 3.0310 - val_accuracy: 0.4398\n",
            "Epoch 6/50\n",
            "2344/2344 [==============================] - 18s 8ms/step - loss: 0.8950 - accuracy: 0.7224 - val_loss: 3.1089 - val_accuracy: 0.4351\n",
            "Epoch 7/50\n",
            "2344/2344 [==============================] - 18s 8ms/step - loss: 0.8776 - accuracy: 0.7268 - val_loss: 3.0935 - val_accuracy: 0.4359\n",
            "Epoch 8/50\n",
            "2344/2344 [==============================] - 18s 8ms/step - loss: 0.8818 - accuracy: 0.7252 - val_loss: 3.0820 - val_accuracy: 0.4395\n",
            "Epoch 9/50\n",
            "2344/2344 [==============================] - 19s 8ms/step - loss: 0.8663 - accuracy: 0.7310 - val_loss: 3.1524 - val_accuracy: 0.4310\n",
            "Epoch 10/50\n",
            "2344/2344 [==============================] - 20s 8ms/step - loss: 0.8453 - accuracy: 0.7367 - val_loss: 3.1693 - val_accuracy: 0.4323\n",
            "Epoch 11/50\n",
            "2344/2344 [==============================] - 19s 8ms/step - loss: 0.8489 - accuracy: 0.7365 - val_loss: 3.0620 - val_accuracy: 0.4311\n",
            "Epoch 12/50\n",
            "2344/2344 [==============================] - 21s 9ms/step - loss: 0.8304 - accuracy: 0.7409 - val_loss: 3.2837 - val_accuracy: 0.4232\n",
            "Epoch 13/50\n",
            "2344/2344 [==============================] - 18s 8ms/step - loss: 0.8234 - accuracy: 0.7438 - val_loss: 3.1388 - val_accuracy: 0.4321\n",
            "Epoch 14/50\n",
            "2344/2344 [==============================] - 18s 8ms/step - loss: 0.8177 - accuracy: 0.7456 - val_loss: 3.2744 - val_accuracy: 0.4209\n",
            "Epoch 15/50\n",
            "2344/2344 [==============================] - 18s 8ms/step - loss: 0.8045 - accuracy: 0.7490 - val_loss: 3.2434 - val_accuracy: 0.4280\n",
            "Epoch 16/50\n",
            "2344/2344 [==============================] - 18s 7ms/step - loss: 0.7980 - accuracy: 0.7513 - val_loss: 3.3536 - val_accuracy: 0.4317\n",
            "Epoch 17/50\n",
            "2344/2344 [==============================] - 18s 8ms/step - loss: 0.7902 - accuracy: 0.7535 - val_loss: 3.2709 - val_accuracy: 0.4334\n",
            "Epoch 18/50\n",
            "2344/2344 [==============================] - 18s 8ms/step - loss: 0.7853 - accuracy: 0.7549 - val_loss: 3.3986 - val_accuracy: 0.4223\n",
            "Epoch 19/50\n",
            "2344/2344 [==============================] - 18s 8ms/step - loss: 0.7727 - accuracy: 0.7580 - val_loss: 3.4098 - val_accuracy: 0.4238\n",
            "Epoch 20/50\n",
            "2344/2344 [==============================] - 18s 8ms/step - loss: 0.7722 - accuracy: 0.7595 - val_loss: 3.4833 - val_accuracy: 0.4207\n",
            "Epoch 21/50\n",
            "2344/2344 [==============================] - 18s 8ms/step - loss: 0.7598 - accuracy: 0.7626 - val_loss: 3.5583 - val_accuracy: 0.4269\n",
            "Epoch 22/50\n",
            "2344/2344 [==============================] - 18s 8ms/step - loss: 0.7610 - accuracy: 0.7616 - val_loss: 3.4338 - val_accuracy: 0.4244\n",
            "Epoch 23/50\n",
            "2344/2344 [==============================] - 18s 8ms/step - loss: 0.7470 - accuracy: 0.7666 - val_loss: 3.5421 - val_accuracy: 0.4263\n",
            "Epoch 24/50\n",
            "2344/2344 [==============================] - 18s 8ms/step - loss: 0.7382 - accuracy: 0.7695 - val_loss: 3.4839 - val_accuracy: 0.4233\n",
            "Epoch 25/50\n",
            "2344/2344 [==============================] - 18s 8ms/step - loss: 0.7435 - accuracy: 0.7676 - val_loss: 3.5511 - val_accuracy: 0.4212\n",
            "Epoch 26/50\n",
            "2344/2344 [==============================] - 18s 8ms/step - loss: 0.7294 - accuracy: 0.7709 - val_loss: 3.5830 - val_accuracy: 0.4228\n",
            "Epoch 27/50\n",
            "2344/2344 [==============================] - 18s 8ms/step - loss: 0.7231 - accuracy: 0.7737 - val_loss: 3.7023 - val_accuracy: 0.4242\n",
            "Epoch 28/50\n",
            "2344/2344 [==============================] - 18s 8ms/step - loss: 0.7208 - accuracy: 0.7731 - val_loss: 3.6633 - val_accuracy: 0.4175\n",
            "Epoch 29/50\n",
            "2344/2344 [==============================] - 18s 8ms/step - loss: 0.7179 - accuracy: 0.7751 - val_loss: 3.6164 - val_accuracy: 0.4172\n",
            "Epoch 30/50\n",
            "2344/2344 [==============================] - 18s 8ms/step - loss: 0.7080 - accuracy: 0.7782 - val_loss: 3.6967 - val_accuracy: 0.4237\n",
            "Epoch 31/50\n",
            "2344/2344 [==============================] - 18s 8ms/step - loss: 0.7076 - accuracy: 0.7785 - val_loss: 3.8231 - val_accuracy: 0.4230\n",
            "Epoch 32/50\n",
            "2344/2344 [==============================] - 18s 8ms/step - loss: 0.7006 - accuracy: 0.7806 - val_loss: 3.7426 - val_accuracy: 0.4158\n",
            "Epoch 33/50\n",
            "2344/2344 [==============================] - 18s 8ms/step - loss: 0.6988 - accuracy: 0.7815 - val_loss: 3.8832 - val_accuracy: 0.4184\n",
            "Epoch 34/50\n",
            "2344/2344 [==============================] - 18s 8ms/step - loss: 0.6887 - accuracy: 0.7839 - val_loss: 3.7496 - val_accuracy: 0.4190\n",
            "Epoch 35/50\n",
            "2344/2344 [==============================] - 18s 8ms/step - loss: 0.6954 - accuracy: 0.7819 - val_loss: 3.9602 - val_accuracy: 0.4222\n",
            "Epoch 36/50\n",
            "2344/2344 [==============================] - 18s 8ms/step - loss: 0.6824 - accuracy: 0.7853 - val_loss: 3.8881 - val_accuracy: 0.4143\n",
            "Epoch 37/50\n",
            "2344/2344 [==============================] - 18s 8ms/step - loss: 0.6832 - accuracy: 0.7869 - val_loss: 3.8979 - val_accuracy: 0.4206\n",
            "Epoch 38/50\n",
            "2344/2344 [==============================] - 18s 8ms/step - loss: 0.6780 - accuracy: 0.7883 - val_loss: 3.8796 - val_accuracy: 0.4207\n",
            "Epoch 39/50\n",
            "2344/2344 [==============================] - 18s 8ms/step - loss: 0.6759 - accuracy: 0.7885 - val_loss: 3.9954 - val_accuracy: 0.4176\n",
            "Epoch 40/50\n",
            "2344/2344 [==============================] - 18s 8ms/step - loss: 0.6734 - accuracy: 0.7897 - val_loss: 3.9369 - val_accuracy: 0.4223\n",
            "Epoch 41/50\n",
            "2344/2344 [==============================] - 18s 8ms/step - loss: 0.6727 - accuracy: 0.7887 - val_loss: 3.9769 - val_accuracy: 0.4156\n",
            "Epoch 42/50\n",
            "2344/2344 [==============================] - 18s 8ms/step - loss: 0.6618 - accuracy: 0.7921 - val_loss: 4.1738 - val_accuracy: 0.4124\n",
            "Epoch 43/50\n",
            "2344/2344 [==============================] - 18s 8ms/step - loss: 0.6605 - accuracy: 0.7924 - val_loss: 4.0010 - val_accuracy: 0.4154\n",
            "Epoch 44/50\n",
            "2344/2344 [==============================] - 18s 8ms/step - loss: 0.6627 - accuracy: 0.7937 - val_loss: 4.0671 - val_accuracy: 0.4174\n",
            "Epoch 45/50\n",
            "2344/2344 [==============================] - 18s 8ms/step - loss: 0.6514 - accuracy: 0.7955 - val_loss: 4.0441 - val_accuracy: 0.4196\n",
            "Epoch 46/50\n",
            "2344/2344 [==============================] - 18s 8ms/step - loss: 0.6684 - accuracy: 0.7913 - val_loss: 4.0871 - val_accuracy: 0.4168\n",
            "Epoch 47/50\n",
            "2344/2344 [==============================] - 18s 8ms/step - loss: 0.6589 - accuracy: 0.7953 - val_loss: 4.0293 - val_accuracy: 0.4132\n",
            "Epoch 48/50\n",
            "2344/2344 [==============================] - 18s 8ms/step - loss: 0.6530 - accuracy: 0.7955 - val_loss: 4.0559 - val_accuracy: 0.4114\n",
            "Epoch 49/50\n",
            "2344/2344 [==============================] - 18s 8ms/step - loss: 0.6419 - accuracy: 0.7993 - val_loss: 4.0888 - val_accuracy: 0.4155\n",
            "Epoch 50/50\n",
            "2344/2344 [==============================] - 18s 8ms/step - loss: 0.6401 - accuracy: 0.7990 - val_loss: 4.2555 - val_accuracy: 0.4178\n"
          ]
        }
      ]
    },
    {
      "cell_type": "code",
      "source": [
        "from numpy import argmax\n",
        "from keras.saving.save import load_model\n",
        "model5= load_model('cifar100.h5')\n",
        "\n",
        "from keras.preprocessing.image import load_img,img_to_array\n",
        "labels = [\n",
        "    'apple', 'aquarium_fish', 'baby', 'bear', 'beaver', 'bed', 'bee', 'beetle',\n",
        "    'bicycle', 'bottle', 'bowl', 'boy', 'bridge', 'bus', 'butterfly', 'camel',\n",
        "    'can', 'castle', 'caterpillar', 'cattle', 'chair', 'chimpanzee', 'clock',\n",
        "    'cloud', 'cockroach', 'couch', 'crab', 'crocodile', 'cup', 'dinosaur',\n",
        "    'dolphin', 'elephant', 'flatfish', 'forest', 'fox', 'girl', 'hamster',\n",
        "    'house', 'kangaroo', 'keyboard', 'lamp', 'lawn_mower', 'leopard', 'lion',\n",
        "    'lizard', 'lobster', 'man', 'maple_tree', 'motorcycle', 'mountain', 'mouse',\n",
        "    'mushroom', 'oak_tree', 'orange', 'orchid', 'otter', 'palm_tree', 'pear',\n",
        "    'pickup_truck', 'pine_tree', 'plain', 'plate', 'poppy', 'porcupine',\n",
        "    'possum', 'rabbit', 'raccoon', 'ray', 'road', 'rocket', 'rose',\n",
        "    'sea', 'seal', 'shark', 'shrew', 'skunk', 'skyscraper', 'snail', 'snake',\n",
        "    'spider', 'squirrel', 'streetcar', 'sunflower', 'sweet_pepper', 'table',\n",
        "    'tank', 'telephone', 'television', 'tiger', 'tractor', 'train', 'trout',\n",
        "    'tulip', 'turtle', 'wardrobe', 'whale', 'willow_tree', 'wolf', 'woman',\n",
        "    'worm'\n",
        "        ]\n",
        "img= load_img('dns.jpg',target_size=(32,32))\n",
        "plt.imshow(img)\n",
        "img= img_to_array(img)\n",
        "img= img.reshape(1,32,32,3)\n",
        "img= img.astype('float32')\n",
        "img=img/255\n",
        "result= model.predict(img)\n",
        "np.argmax(model5.predict(img),axis=1)\n",
        "print('Kết quả dự đoán:',labels[np.argmax(result)])"
      ],
      "metadata": {
        "colab": {
          "base_uri": "https://localhost:8080/",
          "height": 285
        },
        "id": "WWLW-F3teSoQ",
        "outputId": "4340977e-4eac-47d7-bff2-0fc1eeffe6a1"
      },
      "execution_count": null,
      "outputs": [
        {
          "output_type": "stream",
          "name": "stdout",
          "text": [
            "Kết quả dự đoán: lawn_mower\n"
          ]
        },
        {
          "output_type": "display_data",
          "data": {
            "text/plain": [
              "<Figure size 432x288 with 1 Axes>"
            ],
            "image/png": "[encoded data removed]"
          },
          "metadata": {
            "needs_background": "light"
          }
        }
      ]
    },
    {
      "cell_type": "code",
      "source": [
        "from numpy import argmax\n",
        "from keras.saving.save import load_model\n",
        "model5= load_model('cifar100.h5')\n",
        "from keras.preprocessing.image import load_img,img_to_array\n",
        "labels = ['apple', 'aquarium_fish', 'baby', 'bear', 'beaver', 'bed', 'bee', 'beetle',\n",
        "    'bicycle', 'bottle', 'bowl', 'boy', 'bridge', 'bus', 'butterfly', 'camel',\n",
        "    'can', 'castle', 'caterpillar', 'cattle', 'chair', 'chimpanzee', 'clock',\n",
        "    'cloud', 'cockroach', 'couch', 'crab', 'crocodile', 'cup', 'dinosaur',\n",
        "    'dolphin', 'elephant', 'flatfish', 'forest', 'fox', 'girl', 'hamster',\n",
        "    'house', 'kangaroo', 'keyboard', 'lamp', 'lawn_mower', 'leopard', 'lion',\n",
        "    'lizard', 'lobster', 'man', 'maple_tree', 'motorcycle', 'mountain', 'mouse',\n",
        "    'mushroom', 'oak_tree', 'orange', 'orchid', 'otter', 'palm_tree', 'pear',\n",
        "    'pickup_truck', 'pine_tree', 'plain', 'plate', 'poppy', 'porcupine',\n",
        "    'possum', 'rabbit', 'raccoon', 'ray', 'road', 'rocket', 'rose',\n",
        "    'sea', 'seal', 'shark', 'shrew', 'skunk', 'skyscraper', 'snail', 'snake',\n",
        "    'spider', 'squirrel', 'streetcar', 'sunflower', 'sweet_pepper', 'table',\n",
        "    'tank', 'telephone', 'television', 'tiger', 'tractor', 'train', 'trout',\n",
        "    'tulip', 'turtle', 'wardrobe', 'whale', 'willow_tree', 'wolf', 'woman',\n",
        "    'worm']\n",
        "img= load_img('shark2.jpg',target_size=(32,32))\n",
        "plt.imshow(img)\n",
        "img= img_to_array(img)\n",
        "img= img.reshape(1,32,32,3)\n",
        "img= img.astype('float32')\n",
        "img=img/255\n",
        "result= model.predict(img)\n",
        "np.argmax(model5.predict(img),axis=1)\n",
        "print('Kết quả dự đoán:',labels[np.argmax(result)])"
      ],
      "metadata": {
        "colab": {
          "base_uri": "https://localhost:8080/",
          "height": 285
        },
        "id": "bkSaCYPveVDh",
        "outputId": "56b76ab4-e42e-41bd-b0d9-b3d564572fc6"
      },
      "execution_count": null,
      "outputs": [
        {
          "output_type": "stream",
          "name": "stdout",
          "text": [
            "Kết quả dự đoán: shark\n"
          ]
        },
        {
          "output_type": "display_data",
          "data": {
            "text/plain": [
              "<Figure size 432x288 with 1 Axes>"
            ],
            "image/png": "[encoded data removed]"
          },
          "metadata": {
            "needs_background": "light"
          }
        }
      ]
    },
    {
      "cell_type": "code",
      "source": [
        ""
      ],
      "metadata": {
        "id": "jaFR2wK-goGp"
      },
      "execution_count": null,
      "outputs": []
    }
  ]
}